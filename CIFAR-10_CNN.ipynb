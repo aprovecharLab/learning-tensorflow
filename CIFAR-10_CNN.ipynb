{
 "cells": [
  {
   "cell_type": "markdown",
   "metadata": {},
   "source": [
    "# Example 4: classify CIFAR-10 images using CNN followed by fully-connected layer with dropout using one-hot encoding of classes and softmax activation\n",
    "\n",
    "### with help from:\n",
    "* https://www.coursera.org/specializations/deep-learning homework\n",
    "* https://liufuyang.github.io/2017/03/17/just-another-tensorflow-beginner-guide-2.html examples"
   ]
  },
  {
   "cell_type": "code",
   "execution_count": 1,
   "metadata": {},
   "outputs": [],
   "source": [
    "import numpy as np\n",
    "import tensorflow as tf\n",
    "import math\n",
    "\n",
    "import matplotlib.pyplot as plt\n",
    "%matplotlib inline"
   ]
  },
  {
   "cell_type": "code",
   "execution_count": 2,
   "metadata": {},
   "outputs": [],
   "source": [
    "from datetime import datetime\n",
    "import time"
   ]
  },
  {
   "cell_type": "code",
   "execution_count": 3,
   "metadata": {},
   "outputs": [],
   "source": [
    "# progress bar and loop timing\n",
    "from tqdm import tnrange, tqdm_notebook"
   ]
  },
  {
   "cell_type": "code",
   "execution_count": 4,
   "metadata": {},
   "outputs": [],
   "source": [
    "# reset everything\n",
    "tf.reset_default_graph()\n",
    "np.random.seed(1)\n",
    "seed = 3"
   ]
  },
  {
   "cell_type": "code",
   "execution_count": 5,
   "metadata": {},
   "outputs": [],
   "source": [
    "# configuration\n",
    "batch_size = 64\n",
    "learning_rate = 0.001\n",
    "training_epochs = 10\n",
    "\n",
    "# keep probability for dropout\n",
    "keep = 0.5"
   ]
  },
  {
   "cell_type": "markdown",
   "metadata": {},
   "source": [
    "### functions"
   ]
  },
  {
   "cell_type": "code",
   "execution_count": 6,
   "metadata": {},
   "outputs": [],
   "source": [
    "def random_mini_batches_img(X, Y, mini_batch_size = 64, seed = 0):\n",
    "    \"\"\"\n",
    "    Creates a list of random minibatches from (X, Y)\n",
    "    \n",
    "    Arguments:\n",
    "    X -- input data, of shape (input size, number of examples) (m, Hi, Wi, Ci)\n",
    "    Y -- true \"label\" vector (containing 0 if cat, 1 if non-cat), of shape (1, number of examples) (m, n_y)\n",
    "    mini_batch_size - size of the mini-batches, integer\n",
    "    seed -- this is only for the purpose of grading, so that you're \"random minibatches are the same as ours.\n",
    "    \n",
    "    Returns:\n",
    "    mini_batches -- list of synchronous (mini_batch_X, mini_batch_Y)\n",
    "    \n",
    "    from Andrew Ng - Coursera Deep Learning Specialization,\n",
    "        https://www.coursera.org/specializations/deep-learning\n",
    "    \"\"\"\n",
    "    \n",
    "    m = X.shape[0]                  # number of training examples\n",
    "    mini_batches = []\n",
    "    np.random.seed(seed)\n",
    "    \n",
    "    # Step 1: Shuffle (X, Y)\n",
    "    permutation = list(np.random.permutation(m))\n",
    "    shuffled_X = X[permutation,:,:,:]\n",
    "    shuffled_Y = Y[permutation,:]\n",
    "\n",
    "    # Step 2: Partition (shuffled_X, shuffled_Y). Minus the end case.\n",
    "    num_complete_minibatches = math.floor(m/mini_batch_size) # number of mini batches of size mini_batch_size in your partitionning\n",
    "    for k in range(0, num_complete_minibatches):\n",
    "        mini_batch_X = shuffled_X[k * mini_batch_size : k * mini_batch_size + mini_batch_size,:,:,:]\n",
    "        mini_batch_Y = shuffled_Y[k * mini_batch_size : k * mini_batch_size + mini_batch_size,:]\n",
    "        mini_batch = (mini_batch_X, mini_batch_Y)\n",
    "        mini_batches.append(mini_batch)\n",
    "    \n",
    "    # Handling the end case (last mini-batch < mini_batch_size)\n",
    "    if m % mini_batch_size != 0:\n",
    "        mini_batch_X = shuffled_X[num_complete_minibatches * mini_batch_size : m,:,:,:]\n",
    "        mini_batch_Y = shuffled_Y[num_complete_minibatches * mini_batch_size : m,:]\n",
    "        mini_batch = (mini_batch_X, mini_batch_Y)\n",
    "        mini_batches.append(mini_batch)\n",
    "    \n",
    "    return mini_batches"
   ]
  },
  {
   "cell_type": "code",
   "execution_count": 7,
   "metadata": {},
   "outputs": [],
   "source": [
    "def one_hot_matrix(labels, C):\n",
    "    \"\"\"\n",
    "    Creates a matrix where the i-th row corresponds to the ith class number and the jth column\n",
    "                     corresponds to the jth training example. So if example j had a label i. Then entry (i,j) \n",
    "                     will be 1. \n",
    "                     \n",
    "    Arguments:\n",
    "    labels -- vector containing the labels \n",
    "    C -- number of classes, the depth of the one hot dimension\n",
    "    \n",
    "    Returns: \n",
    "    one_hot -- one hot matrix\n",
    "    \n",
    "    from Andrew Ng - Coursera Deep Learning Specialization,\n",
    "        https://www.coursera.org/specializations/deep-learning\n",
    "    \"\"\"\n",
    "    \n",
    "    # Create a tf.constant equal to C (depth), name it 'C'.\n",
    "    C = tf.constant(C, name = \"C\")\n",
    "    \n",
    "    # Use tf.one_hot, be careful with the axis\n",
    "    one_hot_matrix = tf.one_hot(labels, C, axis=0)\n",
    "    \n",
    "    # Create and run the session\n",
    "    with tf.Session() as sess:\n",
    "        one_hot = sess.run(one_hot_matrix)\n",
    "    \n",
    "    return one_hot"
   ]
  },
  {
   "cell_type": "markdown",
   "metadata": {},
   "source": [
    "## The CIFAR-10 dataset\n",
    "\n",
    "* Learning Multiple Layers of Features from Tiny Images, Alex Krizhevsky, 2009.\n",
    "    * https://www.cs.toronto.edu/~kriz/learning-features-2009-TR.pdf\n",
    "\n",
    "### load data and see what is in it: see https://www.cs.toronto.edu/~kriz/cifar.html"
   ]
  },
  {
   "cell_type": "code",
   "execution_count": 8,
   "metadata": {},
   "outputs": [],
   "source": [
    "def unpickle(file):\n",
    "    import pickle\n",
    "    with open(file, 'rb') as fo:\n",
    "        dict = pickle.load(fo, encoding='bytes')\n",
    "    return dict"
   ]
  },
  {
   "cell_type": "code",
   "execution_count": 9,
   "metadata": {},
   "outputs": [],
   "source": [
    "dirs = ['batches.meta','data_batch_1','data_batch_2','data_batch_3','data_batch_4','data_batch_5','test_batch']"
   ]
  },
  {
   "cell_type": "code",
   "execution_count": 10,
   "metadata": {},
   "outputs": [],
   "source": [
    "CifarPath = 'data/cifar-10-batches-py/'\n",
    "all_data = [0,1,2,3,4,5,6]\n",
    "for i, direct in zip(all_data,dirs):\n",
    "    all_data[i] = unpickle(CifarPath+direct)"
   ]
  },
  {
   "cell_type": "code",
   "execution_count": 11,
   "metadata": {},
   "outputs": [],
   "source": [
    "batch_meta = all_data[0]\n",
    "data_batch1 = all_data[1]\n",
    "data_batch2 = all_data[2]\n",
    "data_batch3 = all_data[3]\n",
    "data_batch4 = all_data[4]\n",
    "data_batch5 = all_data[5]\n",
    "test_batch = all_data[6]"
   ]
  },
  {
   "cell_type": "code",
   "execution_count": 12,
   "metadata": {},
   "outputs": [
    {
     "data": {
      "text/plain": [
       "{b'num_cases_per_batch': 10000,\n",
       " b'label_names': [b'airplane',\n",
       "  b'automobile',\n",
       "  b'bird',\n",
       "  b'cat',\n",
       "  b'deer',\n",
       "  b'dog',\n",
       "  b'frog',\n",
       "  b'horse',\n",
       "  b'ship',\n",
       "  b'truck'],\n",
       " b'num_vis': 3072}"
      ]
     },
     "execution_count": 12,
     "metadata": {},
     "output_type": "execute_result"
    }
   ],
   "source": [
    "batch_meta"
   ]
  },
  {
   "cell_type": "code",
   "execution_count": 13,
   "metadata": {},
   "outputs": [
    {
     "data": {
      "text/plain": [
       "dict_keys([b'batch_label', b'labels', b'data', b'filenames'])"
      ]
     },
     "execution_count": 13,
     "metadata": {},
     "output_type": "execute_result"
    }
   ],
   "source": [
    "data_batch1.keys()"
   ]
  },
  {
   "cell_type": "code",
   "execution_count": 14,
   "metadata": {},
   "outputs": [
    {
     "name": "stdout",
     "output_type": "stream",
     "text": [
      "(10000, 3072)\n",
      "(10000,)\n"
     ]
    }
   ],
   "source": [
    "X = data_batch1[b'data']\n",
    "y = data_batch1[b'labels']\n",
    "print(np.shape(X))\n",
    "print(np.shape(y))"
   ]
  },
  {
   "cell_type": "code",
   "execution_count": 15,
   "metadata": {},
   "outputs": [
    {
     "name": "stdout",
     "output_type": "stream",
     "text": [
      "<class 'numpy.ndarray'>\n",
      "<class 'list'>\n"
     ]
    }
   ],
   "source": [
    "print(type(X))\n",
    "print(type(y))"
   ]
  },
  {
   "cell_type": "code",
   "execution_count": 16,
   "metadata": {},
   "outputs": [
    {
     "name": "stdout",
     "output_type": "stream",
     "text": [
      "(10000, 32, 32, 3)\n",
      "(10000, 1)\n",
      "<class 'numpy.ndarray'>\n",
      "<class 'numpy.ndarray'>\n",
      "255 0\n"
     ]
    }
   ],
   "source": [
    "X = np.reshape(X,(10000,3,32,32))\n",
    "X = X.transpose(0,2,3,1)\n",
    "X = X.astype(\"uint8\")\n",
    "\n",
    "y = np.reshape(y,(10000,1))\n",
    "y = y.astype(\"uint8\")\n",
    "\n",
    "print(np.shape(X))\n",
    "print(np.shape(y))\n",
    "\n",
    "print(type(X))\n",
    "print(type(y))\n",
    "\n",
    "print (X.max(), X.min())"
   ]
  },
  {
   "cell_type": "code",
   "execution_count": 17,
   "metadata": {
    "scrolled": true
   },
   "outputs": [
    {
     "data": {
      "text/plain": [
       "<matplotlib.image.AxesImage at 0x7fef7f0a5eb8>"
      ]
     },
     "execution_count": 17,
     "metadata": {},
     "output_type": "execute_result"
    },
    {
     "data": {
      "image/png": "[encoded data removed]",
      "text/plain": [
       "<Figure size 432x288 with 1 Axes>"
      ]
     },
     "metadata": {
      "needs_background": "light"
     },
     "output_type": "display_data"
    }
   ],
   "source": [
    "plt.imshow(X[1])"
   ]
  },
  {
   "cell_type": "code",
   "execution_count": 18,
   "metadata": {},
   "outputs": [
    {
     "name": "stdout",
     "output_type": "stream",
     "text": [
      "[9]\n"
     ]
    }
   ],
   "source": [
    "print(y[1])"
   ]
  },
  {
   "cell_type": "markdown",
   "metadata": {},
   "source": [
    "### format data for processing with CNN"
   ]
  },
  {
   "cell_type": "code",
   "execution_count": 19,
   "metadata": {},
   "outputs": [],
   "source": [
    "# using CIFAR-10\n",
    "n_classes = 10\n",
    "\n",
    "# image size 32x32\n",
    "nh = 32\n",
    "nw = 32\n",
    "\n",
    "# color images\n",
    "nc = 3\n",
    "\n",
    "# number of examples\n",
    "num_examples = 50000"
   ]
  },
  {
   "cell_type": "code",
   "execution_count": 20,
   "metadata": {},
   "outputs": [],
   "source": [
    "# combine all training data set batches\n",
    "training_batches = [data_batch1,data_batch2,data_batch3,data_batch4,data_batch5]"
   ]
  },
  {
   "cell_type": "code",
   "execution_count": 21,
   "metadata": {},
   "outputs": [
    {
     "name": "stdout",
     "output_type": "stream",
     "text": [
      "(50000, 3072)\n",
      "(50000,)\n",
      "(50000, 32, 32, 3)\n",
      "(50000, 10)\n"
     ]
    }
   ],
   "source": [
    "X_train = np.vstack([d[b'data'] for d in training_batches])\n",
    "y_train = np.hstack([d[b'labels'] for d in training_batches])\n",
    "\n",
    "print (np.shape(X_train))\n",
    "print (np.shape(y_train))\n",
    "\n",
    "X_train = np.reshape(X_train,(len(X_train),3,32,32))\n",
    "X_train = X_train.transpose(0,2,3,1)\n",
    "X_train = X_train.astype(\"uint8\")\n",
    "X_train = X_train/255.0\n",
    "\n",
    "# y_train = np.reshape(y_train,(len(y_train),1))\n",
    "y_train = one_hot_matrix(y_train,n_classes).T\n",
    "y_train = y_train.astype(\"uint8\")\n",
    "\n",
    "print (np.shape(X_train))\n",
    "print(np.shape(y_train))"
   ]
  },
  {
   "cell_type": "code",
   "execution_count": 22,
   "metadata": {},
   "outputs": [
    {
     "name": "stdout",
     "output_type": "stream",
     "text": [
      "(10000, 3072)\n",
      "(10000,)\n",
      "(10000, 32, 32, 3)\n",
      "(10000, 10)\n"
     ]
    }
   ],
   "source": [
    "X_test = test_batch[b'data']\n",
    "y_test = test_batch[b'labels']\n",
    "\n",
    "print(np.shape(X_test))\n",
    "print(np.shape(y_test))\n",
    "\n",
    "X_test = np.reshape(X_test,(len(X_test),3,32,32))\n",
    "X_test = X_test.transpose(0,2,3,1)\n",
    "X_test = X_test.astype(\"uint8\")\n",
    "X_test = X_test/255.0\n",
    "\n",
    "# y_test = np.reshape(y_test,(len(y_test),1))\n",
    "y_test = one_hot_matrix(y_test,n_classes).T\n",
    "y_test = y_test.astype(\"uint8\")\n",
    "\n",
    "print(np.shape(X_test))\n",
    "print(np.shape(y_test))"
   ]
  },
  {
   "cell_type": "markdown",
   "metadata": {},
   "source": [
    "### data input and formatted properly!"
   ]
  },
  {
   "cell_type": "code",
   "execution_count": null,
   "metadata": {},
   "outputs": [],
   "source": []
  },
  {
   "cell_type": "markdown",
   "metadata": {},
   "source": [
    "## CNN"
   ]
  },
  {
   "cell_type": "code",
   "execution_count": 23,
   "metadata": {},
   "outputs": [],
   "source": [
    "# tensorboard log file path\n",
    "logs_path = './tmp/example4/'+datetime.now().isoformat()"
   ]
  },
  {
   "cell_type": "code",
   "execution_count": 24,
   "metadata": {},
   "outputs": [],
   "source": [
    "# reset everything\n",
    "tf.reset_default_graph()\n",
    "np.random.seed(1)\n",
    "seed = 3"
   ]
  },
  {
   "cell_type": "markdown",
   "metadata": {},
   "source": [
    "### tensorflow constants, variables, placeholders"
   ]
  },
  {
   "cell_type": "code",
   "execution_count": 25,
   "metadata": {},
   "outputs": [],
   "source": [
    "with tf.name_scope('input'):\n",
    "    X = tf.placeholder(tf.float32, shape=[None, nh, nw, nc], name=\"X\")\n",
    "    y_true = tf.placeholder(tf.float32, shape=[None, n_classes], name=\"y_true\")\n",
    "    keep_prob = tf.placeholder(tf.float32, name=\"keep_prob\")"
   ]
  },
  {
   "cell_type": "code",
   "execution_count": 26,
   "metadata": {},
   "outputs": [],
   "source": [
    "with tf.name_scope('filterWeights'):\n",
    "    W1 = tf.get_variable(\"W1\", [4, 4, nc, 8], initializer = tf.contrib.layers.xavier_initializer(seed=0))\n",
    "    W2 = tf.get_variable(\"W2\", [2, 2, 8, 32], initializer = tf.contrib.layers.xavier_initializer(seed=0))\n",
    "# tensorflow's fully-connected function used here initializes its own weights automatically"
   ]
  },
  {
   "cell_type": "markdown",
   "metadata": {},
   "source": [
    "### define computation graph"
   ]
  },
  {
   "cell_type": "code",
   "execution_count": 27,
   "metadata": {},
   "outputs": [
    {
     "name": "stdout",
     "output_type": "stream",
     "text": [
      "Tensor(\"convLayer1/MaxPool:0\", shape=(?, 16, 16, 8), dtype=float32)\n",
      "Tensor(\"fullyConnected/Flatten/flatten/Reshape:0\", shape=(?, 2048), dtype=float32)\n",
      "Tensor(\"fullyConnected/fully_connected/BiasAdd:0\", shape=(?, 10), dtype=float32)\n"
     ]
    }
   ],
   "source": [
    "with tf.name_scope('convLayer1'):\n",
    "    z1 = tf.nn.conv2d(X, W1, strides=[1,1,1,1], padding='SAME')\n",
    "    a1 = tf.nn.relu(z1)\n",
    "    p1 = tf.nn.max_pool(a1, ksize=[1,2,2,1], strides=[1,2,2,1], padding='SAME')\n",
    "with tf.name_scope('convLayer2'):\n",
    "    z2 = tf.nn.conv2d(p1, W2, strides=[1,1,1,1], padding='SAME')\n",
    "    a2 = tf.nn.relu(z2)\n",
    "    p2 = tf.nn.max_pool(a2, ksize=[1,2,2,1], strides=[1,2,2,1], padding='SAME')\n",
    "with tf.name_scope('fullyConnected'):\n",
    "    p2 = tf.contrib.layers.flatten(p2)\n",
    "    p2_drop = tf.nn.dropout(p2,keep_prob=keep)\n",
    "    y = tf.contrib.layers.fully_connected(p2_drop, n_classes, activation_fn=None)\n",
    "# with tf.name_scope('softmax'):\n",
    "#     y  = tf.nn.softmax(z3)\n",
    "\n",
    "print (str(p1))\n",
    "print (str(p2))\n",
    "print (str(y))"
   ]
  },
  {
   "cell_type": "markdown",
   "metadata": {},
   "source": [
    "### cost function"
   ]
  },
  {
   "cell_type": "code",
   "execution_count": 28,
   "metadata": {},
   "outputs": [],
   "source": [
    "# with tf.name_scope('cross_entropy'):\n",
    "#     cost = tf.reduce_mean(-tf.reduce_sum(y_true * tf.log(y)))\n",
    "\n",
    "# this cross-entropy function does softmax automatically\n",
    "with tf.name_scope('cross_entropy'):\n",
    "    cost = tf.reduce_mean(tf.nn.softmax_cross_entropy_with_logits_v2(labels=y_true, \\\n",
    "                                                                     logits=y))"
   ]
  },
  {
   "cell_type": "markdown",
   "metadata": {},
   "source": [
    "### optimizer¶"
   ]
  },
  {
   "cell_type": "code",
   "execution_count": 29,
   "metadata": {},
   "outputs": [],
   "source": [
    "with tf.name_scope('train'):\n",
    "#     optimizer = tf.train.GradientDescentOptimizer(learning_rate=learning_rate)\n",
    "    optimizer = tf.train.AdamOptimizer(learning_rate=learning_rate)\n",
    "    train = optimizer.minimize(cost)"
   ]
  },
  {
   "cell_type": "markdown",
   "metadata": {},
   "source": [
    "### metrics¶"
   ]
  },
  {
   "cell_type": "code",
   "execution_count": 30,
   "metadata": {},
   "outputs": [],
   "source": [
    "with tf.name_scope('accuracy'):\n",
    "    correct_predictions = tf.equal(tf.argmax(y,1),tf.argmax(y_true,1))   \n",
    "    accuracy = tf.reduce_mean(tf.cast(correct_predictions,tf.float32))"
   ]
  },
  {
   "cell_type": "markdown",
   "metadata": {},
   "source": [
    "### log results"
   ]
  },
  {
   "cell_type": "code",
   "execution_count": 31,
   "metadata": {},
   "outputs": [],
   "source": [
    "# summary for tensorboard\n",
    "train_cost_summary = tf.summary.scalar(\"train_cost\", cost)\n",
    "train_accuracy_summary = tf.summary.scalar(\"train_accuracy\", accuracy)\n",
    "\n",
    "test_cost_summary = tf.summary.scalar(\"test_cost\", cost)\n",
    "test_accuracy_summary = tf.summary.scalar(\"test_accuracy\", accuracy)"
   ]
  },
  {
   "cell_type": "markdown",
   "metadata": {},
   "source": [
    "### main program¶"
   ]
  },
  {
   "cell_type": "code",
   "execution_count": 32,
   "metadata": {},
   "outputs": [],
   "source": [
    "init = tf.global_variables_initializer()"
   ]
  },
  {
   "cell_type": "code",
   "execution_count": 33,
   "metadata": {
    "scrolled": true
   },
   "outputs": [
    {
     "name": "stdout",
     "output_type": "stream",
     "text": [
      "number of mini_batches:  781\n"
     ]
    },
    {
     "data": {
      "application/vnd.jupyter.widget-view+json": {
       "model_id": "b62a86454cf04b72918bd1f32f86ac87",
       "version_major": 2,
       "version_minor": 0
      },
      "text/plain": [
       "HBox(children=(IntProgress(value=0, description='epoch', max=10, style=ProgressStyle(description_width='initia…"
      ]
     },
     "metadata": {},
     "output_type": "display_data"
    },
    {
     "name": "stdout",
     "output_type": "stream",
     "text": [
      "Epoch   0, Batch 100 | Train Cost: 1.95 | Test Cost: 1.94 | Train Accuracy: 0.28 | Test Accuracy: 0.31\n",
      "Epoch   0, Batch 200 | Train Cost: 1.78 | Test Cost: 1.77 | Train Accuracy: 0.41 | Test Accuracy: 0.38\n",
      "Epoch   0, Batch 300 | Train Cost: 1.58 | Test Cost: 1.68 | Train Accuracy: 0.42 | Test Accuracy: 0.41\n",
      "Epoch   0, Batch 400 | Train Cost: 1.63 | Test Cost: 1.63 | Train Accuracy: 0.44 | Test Accuracy: 0.42\n",
      "Epoch   0, Batch 500 | Train Cost: 1.46 | Test Cost: 1.58 | Train Accuracy: 0.50 | Test Accuracy: 0.44\n",
      "Epoch   0, Batch 600 | Train Cost: 1.39 | Test Cost: 1.54 | Train Accuracy: 0.48 | Test Accuracy: 0.46\n",
      "Epoch   0, Batch 700 | Train Cost: 1.67 | Test Cost: 1.51 | Train Accuracy: 0.39 | Test Accuracy: 0.46\n",
      "Epoch   1, Batch 100 | Train Cost: 1.33 | Test Cost: 1.49 | Train Accuracy: 0.52 | Test Accuracy: 0.47\n",
      "Epoch   1, Batch 200 | Train Cost: 1.45 | Test Cost: 1.50 | Train Accuracy: 0.52 | Test Accuracy: 0.47\n",
      "Epoch   1, Batch 300 | Train Cost: 1.74 | Test Cost: 1.49 | Train Accuracy: 0.36 | Test Accuracy: 0.47\n",
      "Epoch   1, Batch 400 | Train Cost: 1.53 | Test Cost: 1.45 | Train Accuracy: 0.48 | Test Accuracy: 0.49\n",
      "Epoch   1, Batch 500 | Train Cost: 1.29 | Test Cost: 1.43 | Train Accuracy: 0.59 | Test Accuracy: 0.50\n",
      "Epoch   1, Batch 600 | Train Cost: 1.63 | Test Cost: 1.42 | Train Accuracy: 0.44 | Test Accuracy: 0.49\n",
      "Epoch   1, Batch 700 | Train Cost: 1.39 | Test Cost: 1.41 | Train Accuracy: 0.48 | Test Accuracy: 0.50\n",
      "Epoch   2, Batch 100 | Train Cost: 1.25 | Test Cost: 1.38 | Train Accuracy: 0.52 | Test Accuracy: 0.51\n",
      "Epoch   2, Batch 200 | Train Cost: 1.42 | Test Cost: 1.40 | Train Accuracy: 0.47 | Test Accuracy: 0.51\n",
      "Epoch   2, Batch 300 | Train Cost: 1.50 | Test Cost: 1.37 | Train Accuracy: 0.39 | Test Accuracy: 0.52\n",
      "Epoch   2, Batch 400 | Train Cost: 1.56 | Test Cost: 1.40 | Train Accuracy: 0.45 | Test Accuracy: 0.50\n",
      "Epoch   2, Batch 500 | Train Cost: 1.69 | Test Cost: 1.37 | Train Accuracy: 0.45 | Test Accuracy: 0.51\n",
      "Epoch   2, Batch 600 | Train Cost: 1.25 | Test Cost: 1.38 | Train Accuracy: 0.50 | Test Accuracy: 0.52\n",
      "Epoch   2, Batch 700 | Train Cost: 1.21 | Test Cost: 1.35 | Train Accuracy: 0.64 | Test Accuracy: 0.52\n",
      "Epoch   3, Batch 100 | Train Cost: 1.66 | Test Cost: 1.36 | Train Accuracy: 0.42 | Test Accuracy: 0.52\n",
      "Epoch   3, Batch 200 | Train Cost: 1.51 | Test Cost: 1.34 | Train Accuracy: 0.55 | Test Accuracy: 0.53\n",
      "Epoch   3, Batch 300 | Train Cost: 1.34 | Test Cost: 1.33 | Train Accuracy: 0.53 | Test Accuracy: 0.53\n",
      "Epoch   3, Batch 400 | Train Cost: 1.44 | Test Cost: 1.32 | Train Accuracy: 0.55 | Test Accuracy: 0.53\n",
      "Epoch   3, Batch 500 | Train Cost: 1.26 | Test Cost: 1.35 | Train Accuracy: 0.53 | Test Accuracy: 0.53\n",
      "Epoch   3, Batch 600 | Train Cost: 1.22 | Test Cost: 1.31 | Train Accuracy: 0.55 | Test Accuracy: 0.54\n",
      "Epoch   3, Batch 700 | Train Cost: 1.18 | Test Cost: 1.31 | Train Accuracy: 0.62 | Test Accuracy: 0.54\n",
      "Epoch   4, Batch 100 | Train Cost: 1.26 | Test Cost: 1.30 | Train Accuracy: 0.56 | Test Accuracy: 0.55\n",
      "Epoch   4, Batch 200 | Train Cost: 1.30 | Test Cost: 1.29 | Train Accuracy: 0.56 | Test Accuracy: 0.55\n",
      "Epoch   4, Batch 300 | Train Cost: 1.23 | Test Cost: 1.32 | Train Accuracy: 0.59 | Test Accuracy: 0.54\n",
      "Epoch   4, Batch 400 | Train Cost: 1.17 | Test Cost: 1.29 | Train Accuracy: 0.58 | Test Accuracy: 0.55\n",
      "Epoch   4, Batch 500 | Train Cost: 1.32 | Test Cost: 1.28 | Train Accuracy: 0.56 | Test Accuracy: 0.55\n",
      "Epoch   4, Batch 600 | Train Cost: 1.14 | Test Cost: 1.29 | Train Accuracy: 0.64 | Test Accuracy: 0.55\n",
      "Epoch   4, Batch 700 | Train Cost: 1.48 | Test Cost: 1.28 | Train Accuracy: 0.48 | Test Accuracy: 0.55\n",
      "Epoch   5, Batch 100 | Train Cost: 1.45 | Test Cost: 1.28 | Train Accuracy: 0.53 | Test Accuracy: 0.56\n",
      "Epoch   5, Batch 200 | Train Cost: 1.04 | Test Cost: 1.27 | Train Accuracy: 0.59 | Test Accuracy: 0.56\n",
      "Epoch   5, Batch 300 | Train Cost: 1.05 | Test Cost: 1.27 | Train Accuracy: 0.55 | Test Accuracy: 0.56\n",
      "Epoch   5, Batch 400 | Train Cost: 1.26 | Test Cost: 1.28 | Train Accuracy: 0.52 | Test Accuracy: 0.55\n",
      "Epoch   5, Batch 500 | Train Cost: 1.45 | Test Cost: 1.27 | Train Accuracy: 0.56 | Test Accuracy: 0.55\n",
      "Epoch   5, Batch 600 | Train Cost: 1.38 | Test Cost: 1.25 | Train Accuracy: 0.53 | Test Accuracy: 0.56\n",
      "Epoch   5, Batch 700 | Train Cost: 1.25 | Test Cost: 1.24 | Train Accuracy: 0.64 | Test Accuracy: 0.57\n",
      "Epoch   6, Batch 100 | Train Cost: 1.45 | Test Cost: 1.25 | Train Accuracy: 0.56 | Test Accuracy: 0.56\n",
      "Epoch   6, Batch 200 | Train Cost: 1.40 | Test Cost: 1.24 | Train Accuracy: 0.48 | Test Accuracy: 0.57\n",
      "Epoch   6, Batch 300 | Train Cost: 1.39 | Test Cost: 1.25 | Train Accuracy: 0.50 | Test Accuracy: 0.56\n",
      "Epoch   6, Batch 400 | Train Cost: 1.24 | Test Cost: 1.26 | Train Accuracy: 0.55 | Test Accuracy: 0.55\n",
      "Epoch   6, Batch 500 | Train Cost: 1.25 | Test Cost: 1.24 | Train Accuracy: 0.55 | Test Accuracy: 0.57\n",
      "Epoch   6, Batch 600 | Train Cost: 1.39 | Test Cost: 1.25 | Train Accuracy: 0.42 | Test Accuracy: 0.56\n",
      "Epoch   6, Batch 700 | Train Cost: 1.11 | Test Cost: 1.24 | Train Accuracy: 0.62 | Test Accuracy: 0.57\n",
      "Epoch   7, Batch 100 | Train Cost: 1.32 | Test Cost: 1.23 | Train Accuracy: 0.55 | Test Accuracy: 0.57\n",
      "Epoch   7, Batch 200 | Train Cost: 1.20 | Test Cost: 1.22 | Train Accuracy: 0.64 | Test Accuracy: 0.58\n",
      "Epoch   7, Batch 300 | Train Cost: 1.10 | Test Cost: 1.20 | Train Accuracy: 0.56 | Test Accuracy: 0.58\n",
      "Epoch   7, Batch 400 | Train Cost: 1.27 | Test Cost: 1.25 | Train Accuracy: 0.61 | Test Accuracy: 0.57\n",
      "Epoch   7, Batch 500 | Train Cost: 1.13 | Test Cost: 1.22 | Train Accuracy: 0.61 | Test Accuracy: 0.57\n",
      "Epoch   7, Batch 600 | Train Cost: 1.19 | Test Cost: 1.20 | Train Accuracy: 0.61 | Test Accuracy: 0.58\n",
      "Epoch   7, Batch 700 | Train Cost: 1.03 | Test Cost: 1.20 | Train Accuracy: 0.62 | Test Accuracy: 0.58\n",
      "Epoch   8, Batch 100 | Train Cost: 1.29 | Test Cost: 1.25 | Train Accuracy: 0.56 | Test Accuracy: 0.56\n",
      "Epoch   8, Batch 200 | Train Cost: 1.18 | Test Cost: 1.22 | Train Accuracy: 0.50 | Test Accuracy: 0.58\n",
      "Epoch   8, Batch 300 | Train Cost: 1.25 | Test Cost: 1.19 | Train Accuracy: 0.55 | Test Accuracy: 0.58\n",
      "Epoch   8, Batch 400 | Train Cost: 1.02 | Test Cost: 1.19 | Train Accuracy: 0.62 | Test Accuracy: 0.59\n",
      "Epoch   8, Batch 500 | Train Cost: 1.05 | Test Cost: 1.21 | Train Accuracy: 0.64 | Test Accuracy: 0.58\n",
      "Epoch   8, Batch 600 | Train Cost: 1.15 | Test Cost: 1.22 | Train Accuracy: 0.61 | Test Accuracy: 0.57\n",
      "Epoch   8, Batch 700 | Train Cost: 1.16 | Test Cost: 1.20 | Train Accuracy: 0.59 | Test Accuracy: 0.58\n",
      "Epoch   9, Batch 100 | Train Cost: 1.40 | Test Cost: 1.21 | Train Accuracy: 0.59 | Test Accuracy: 0.58\n",
      "Epoch   9, Batch 200 | Train Cost: 1.10 | Test Cost: 1.20 | Train Accuracy: 0.56 | Test Accuracy: 0.58\n",
      "Epoch   9, Batch 300 | Train Cost: 1.07 | Test Cost: 1.20 | Train Accuracy: 0.66 | Test Accuracy: 0.58\n",
      "Epoch   9, Batch 400 | Train Cost: 1.18 | Test Cost: 1.21 | Train Accuracy: 0.64 | Test Accuracy: 0.58\n",
      "Epoch   9, Batch 500 | Train Cost: 1.14 | Test Cost: 1.19 | Train Accuracy: 0.66 | Test Accuracy: 0.59\n",
      "Epoch   9, Batch 600 | Train Cost: 1.26 | Test Cost: 1.21 | Train Accuracy: 0.62 | Test Accuracy: 0.58\n",
      "Epoch   9, Batch 700 | Train Cost: 1.26 | Test Cost: 1.20 | Train Accuracy: 0.61 | Test Accuracy: 0.58\n",
      "\n",
      "\n",
      "Final Test Set Accuracy: 0.5827000141143799\n"
     ]
    }
   ],
   "source": [
    "with tf.Session() as sess:\n",
    "    sess.run(init)\n",
    "    \n",
    "    # tensorboard log file writer    \n",
    "    writer = tf.summary.FileWriter(logs_path, graph=tf.get_default_graph())\n",
    "    \n",
    "    batch_count = np.int(num_examples/batch_size)\n",
    "    print ('number of mini_batches: ',batch_count)\n",
    "\n",
    "    for epoch in tnrange(training_epochs, desc='epoch'):\n",
    "        \n",
    "        seed = seed+1\n",
    "        mini_batches = random_mini_batches_img(X_train, y_train, batch_size, seed=seed)\n",
    "        \n",
    "        iter = 0        \n",
    "        for mini_batch in mini_batches:\n",
    "            \n",
    "            iter = iter+1\n",
    "\n",
    "            (batch_x, batch_y) = mini_batch\n",
    "            \n",
    "            _, train_cost, train_accuracy, _train_cost_summary, _train_accuracy_summary = \\\n",
    "               sess.run([train, cost, accuracy, train_cost_summary, train_accuracy_summary], \\\n",
    "                   feed_dict={X: batch_x, y_true: batch_y, keep_prob:keep})\n",
    "            \n",
    "            writer.add_summary(_train_cost_summary, epoch * batch_count + iter)\n",
    "            writer.add_summary(_train_accuracy_summary, epoch * batch_count + iter)\n",
    "       \n",
    "            if iter % 100 == 0:\n",
    "                # for log on test data:\n",
    "                test_cost, test_accuracy, _test_cost_summary, _test_accuracy_summary = \\\n",
    "                    sess.run([cost, accuracy, test_cost_summary, test_accuracy_summary], \\\n",
    "                        feed_dict={X:X_test, y_true:y_test, keep_prob:1.0})\n",
    "                # write log\n",
    "                writer.add_summary(_test_cost_summary, epoch * batch_count + iter)\n",
    "                writer.add_summary(_test_accuracy_summary, epoch * batch_count + iter)\n",
    "                \n",
    "                print('Epoch {0:3d}, Batch {1:3d} | Train Cost: {2:.2f} | Test Cost: {3:.2f} | Train Accuracy: {4:.2f} | Test Accuracy: {5:.2f}'.format(epoch, iter, train_cost, test_cost, train_accuracy, test_accuracy))\n",
    "            \n",
    "    print('\\nFinal Test Set Accuracy: {}'.format(accuracy.eval(feed_dict={X:X_test, y_true:y_test, keep_prob:1.0})))"
   ]
  },
  {
   "cell_type": "code",
   "execution_count": null,
   "metadata": {},
   "outputs": [],
   "source": []
  },
  {
   "cell_type": "code",
   "execution_count": null,
   "metadata": {},
   "outputs": [],
   "source": []
  },
  {
   "cell_type": "code",
   "execution_count": null,
   "metadata": {},
   "outputs": [],
   "source": []
  }
 ],
 "metadata": {
  "kernelspec": {
   "display_name": "Python 3",
   "language": "python",
   "name": "python3"
  },
  "language_info": {
   "codemirror_mode": {
    "name": "ipython",
    "version": 3
   },
   "file_extension": ".py",
   "mimetype": "text/x-python",
   "name": "python",
   "nbconvert_exporter": "python",
   "pygments_lexer": "ipython3",
   "version": "3.6.7"
  }
 },
 "nbformat": 4,
 "nbformat_minor": 2
}
